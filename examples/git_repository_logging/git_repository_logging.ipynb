{
 "cells": [
  {
   "cell_type": "markdown",
   "metadata": {},
   "source": [
    "## Git repository logging"
   ]
  },
  {
   "cell_type": "markdown",
   "metadata": {},
   "source": [
    "By default, `CmdInterface` logs the git repository hashes of the respective last commit of two repositories:\n",
    "1. the git repository of the main file that is being executed (if located in a repository)\n",
    "2. the git repository of the file containing the CmdInterface class (if located in a repository)\n",
    "\n",
    "Additonally, any other repository can be added for logging and, if desired, also automatically committed if dirty.\n",
    "\n",
    "The logged git information can be found under `['cmd_interface']['repositories']` in the json logfile"
   ]
  },
  {
   "cell_type": "code",
   "execution_count": 2,
   "metadata": {},
   "outputs": [],
   "source": [
    "from cmdint import CmdInterface\n",
    "from pathlib import Path\n",
    "\n",
    "CmdInterface.add_repo_path(str(Path.home()) + '/mrtrix3/', autocommit=False)"
   ]
  },
  {
   "cell_type": "markdown",
   "metadata": {},
   "source": [
    "If `autocommit=True`, pending changes in a dirty repo are commited with an automatic commit message. This can be sensible since the logged commit hash otherwise does not capture the full state of the repository."
   ]
  },
  {
   "cell_type": "code",
   "execution_count": 3,
   "metadata": {},
   "outputs": [
    {
     "name": "stdout",
     "output_type": "stream",
     "text": [
      "Warning, repo /home/neher/cmdint/cmdint is dirty!\n",
      "2019-02-05 09:09:54 >> ls START\n",
      "2019-02-05 09:09:54 >> ls END\n",
      "Anonymizing git_repository_logging.json\n"
     ]
    }
   ],
   "source": [
    "CmdInterface.set_static_logfile('git_repository_logging.json', delete_existing=True)\n",
    "test = CmdInterface('ls')\n",
    "test.add_arg(key='-l', arg='/')\n",
    "test.run()\n",
    "CmdInterface.anonymize_log(out_log_name='git_repository_logging.json')"
   ]
  },
  {
   "cell_type": "code",
   "execution_count": null,
   "metadata": {},
   "outputs": [],
   "source": []
  }
 ],
 "metadata": {
  "kernelspec": {
   "display_name": "Python 3",
   "language": "python",
   "name": "python3"
  },
  "language_info": {
   "codemirror_mode": {
    "name": "ipython",
    "version": 3
   },
   "file_extension": ".py",
   "mimetype": "text/x-python",
   "name": "python",
   "nbconvert_exporter": "python",
   "pygments_lexer": "ipython3",
   "version": "3.6.7"
  }
 },
 "nbformat": 4,
 "nbformat_minor": 2
}
