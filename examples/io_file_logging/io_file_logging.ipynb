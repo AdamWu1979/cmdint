{
 "cells": [
  {
   "cell_type": "markdown",
   "metadata": {},
   "source": [
    "## Example how CmdInterface deals with input and output logging"
   ]
  },
  {
   "cell_type": "code",
   "execution_count": 1,
   "metadata": {},
   "outputs": [],
   "source": [
    "from cmdint import CmdInterface\n",
    "import os"
   ]
  },
  {
   "cell_type": "markdown",
   "metadata": {},
   "source": [
    "First we remove some files that might have been created in a previous run of this script and we want a clean start."
   ]
  },
  {
   "cell_type": "code",
   "execution_count": 2,
   "metadata": {},
   "outputs": [],
   "source": [
    "if os.path.isfile('io_file_checking.txt'):\n",
    "    os.remove('io_file_checking.txt')\n",
    "if os.path.isfile('io_file_checking_copy.txt'):\n",
    "    os.remove('io_file_checking_copy.txt')"
   ]
  },
  {
   "cell_type": "markdown",
   "metadata": {},
   "source": [
    "Set output logfile and tell CmdInterface to delete a potentially present old logfile"
   ]
  },
  {
   "cell_type": "code",
   "execution_count": 3,
   "metadata": {},
   "outputs": [],
   "source": [
    "CmdInterface.set_static_logfile('io_file_checking.json', delete_existing=True)"
   ]
  },
  {
   "cell_type": "markdown",
   "metadata": {},
   "source": [
    "We want to log if a run is not necessary. By default this is disabled since we don't want to swamp our logfile if we call the script multiple times."
   ]
  },
  {
   "cell_type": "code",
   "execution_count": 4,
   "metadata": {},
   "outputs": [],
   "source": [
    "CmdInterface.set_immediate_return_on_run_not_necessary(do_return=False)"
   ]
  },
  {
   "cell_type": "markdown",
   "metadata": {},
   "source": [
    "For this example we also dont't want to exit python if a run fails. The default is True."
   ]
  },
  {
   "cell_type": "code",
   "execution_count": 5,
   "metadata": {},
   "outputs": [],
   "source": [
    "CmdInterface.set_exit_on_error(do_exit=False)"
   ]
  },
  {
   "cell_type": "markdown",
   "metadata": {},
   "source": [
    "### Step 1:Create a new text file using *echo*"
   ]
  },
  {
   "cell_type": "code",
   "execution_count": 6,
   "metadata": {},
   "outputs": [
    {
     "name": "stdout",
     "output_type": "stream",
     "text": [
      "Warning, repo /home/neher/cmdint/cmdint is dirty!\n"
     ]
    }
   ],
   "source": [
    "step1 = CmdInterface('echo')\n",
    "step1.add_arg(arg='unus ignis quis vir multum ab audere')"
   ]
  },
  {
   "cell_type": "markdown",
   "metadata": {},
   "source": [
    "By setting *check_output* to True, the argument is treated as an expected output file (logged under `['command']['output']['expected']`). If the file is found **BEFORE** execution, the execution is skipped, since a run is regarded as unnecessary when all\n",
    "output files are already present. The run fails if this file is not found **AFTER** execution (logged under: `['command']['output']['missing']`). If it is found, the run is successful and the file hash is logged to enable unique identification (logged under `['command']['output']['found']`)."
   ]
  },
  {
   "cell_type": "code",
   "execution_count": 7,
   "metadata": {},
   "outputs": [
    {
     "name": "stdout",
     "output_type": "stream",
     "text": [
      "2019-02-05 08:47:47 >> echo START\n",
      "2019-02-05 08:47:47 >> echo END\n"
     ]
    },
    {
     "data": {
      "text/plain": [
       "1"
      ]
     },
     "execution_count": 7,
     "metadata": {},
     "output_type": "execute_result"
    }
   ],
   "source": [
    "step1.add_arg(key='>', arg='io_file_checking.txt', check_output=True)\n",
    "step1.run()"
   ]
  },
  {
   "cell_type": "markdown",
   "metadata": {},
   "source": [
    "### Step 2: copy the previously created file using *cp*"
   ]
  },
  {
   "cell_type": "code",
   "execution_count": 8,
   "metadata": {},
   "outputs": [
    {
     "name": "stdout",
     "output_type": "stream",
     "text": [
      "Warning, repo /home/neher/cmdint/cmdint is dirty!\n"
     ]
    }
   ],
   "source": [
    "step2 = CmdInterface('cp')"
   ]
  },
  {
   "cell_type": "markdown",
   "metadata": {},
   "source": [
    "Similar to *check_output*, the *check_input* flag declares an argument as expected input file (logged under `['command']['input']['expected']`). The run fails if this file is not found **BEFORE** execution (logged under: `['command']['input']['missing']`). If it is found, the run is started and the file hash is logged to enable unique identification (logged under `['command']['input']['found']`)."
   ]
  },
  {
   "cell_type": "code",
   "execution_count": 9,
   "metadata": {},
   "outputs": [
    {
     "name": "stdout",
     "output_type": "stream",
     "text": [
      "2019-02-05 08:53:18 >> cp START\n",
      "2019-02-05 08:53:18 >> cp END\n"
     ]
    },
    {
     "data": {
      "text/plain": [
       "1"
      ]
     },
     "execution_count": 9,
     "metadata": {},
     "output_type": "execute_result"
    }
   ],
   "source": [
    "step2.add_arg(arg='io_file_checking.txt', check_input=True)\n",
    "step2.add_arg(arg='io_file_checking_copy.txt', check_output=True)\n",
    "step2.run()"
   ]
  },
  {
   "cell_type": "markdown",
   "metadata": {},
   "source": [
    "Let's run step2 again to get a log of a skipped run since the output file is already there. The log of this command is simply appended to the json file because we did not specify a new file name."
   ]
  },
  {
   "cell_type": "code",
   "execution_count": 10,
   "metadata": {},
   "outputs": [
    {
     "name": "stdout",
     "output_type": "stream",
     "text": [
      "2019-02-05 08:54:33 >> cp START\n",
      "Skipping execution. All output files already present.\n",
      "2019-02-05 08:54:33 >> cp END\n"
     ]
    },
    {
     "data": {
      "text/plain": [
       "2"
      ]
     },
     "execution_count": 10,
     "metadata": {},
     "output_type": "execute_result"
    }
   ],
   "source": [
    "step2.run()"
   ]
  },
  {
   "cell_type": "markdown",
   "metadata": {},
   "source": [
    "### Step 3: let's create a run that will fail due to a missing input file"
   ]
  },
  {
   "cell_type": "code",
   "execution_count": 11,
   "metadata": {},
   "outputs": [
    {
     "name": "stdout",
     "output_type": "stream",
     "text": [
      "Warning, repo /home/neher/cmdint/cmdint is dirty!\n",
      "2019-02-05 08:55:13 >> cp START\n",
      "Skipping execution. Input files missing: ['non_existing_file.txt']\n",
      "2019-02-05 08:55:13 >> cp END\n"
     ]
    },
    {
     "data": {
      "text/plain": [
       "-2"
      ]
     },
     "execution_count": 11,
     "metadata": {},
     "output_type": "execute_result"
    }
   ],
   "source": [
    "step3 = CmdInterface('cp')\n",
    "step3.add_arg(arg='non_existing_file.txt', check_input=True)\n",
    "step3.add_arg(arg='non_existing_file_copy.txt', check_output=True)\n",
    "step3.run()"
   ]
  },
  {
   "cell_type": "markdown",
   "metadata": {},
   "source": [
    "And finally, anonymize our logfile again as explained in `simply.ipynb`."
   ]
  },
  {
   "cell_type": "code",
   "execution_count": 12,
   "metadata": {},
   "outputs": [
    {
     "name": "stdout",
     "output_type": "stream",
     "text": [
      "Anonymizing io_file_checking.json\n"
     ]
    }
   ],
   "source": [
    "CmdInterface.anonymize_log(out_log_name='io_file_checking.json')"
   ]
  },
  {
   "cell_type": "code",
   "execution_count": null,
   "metadata": {},
   "outputs": [],
   "source": []
  }
 ],
 "metadata": {
  "kernelspec": {
   "display_name": "Python 3",
   "language": "python",
   "name": "python3"
  },
  "language_info": {
   "codemirror_mode": {
    "name": "ipython",
    "version": 3
   },
   "file_extension": ".py",
   "mimetype": "text/x-python",
   "name": "python",
   "nbconvert_exporter": "python",
   "pygments_lexer": "ipython3",
   "version": "3.6.7"
  }
 },
 "nbformat": 4,
 "nbformat_minor": 2
}
