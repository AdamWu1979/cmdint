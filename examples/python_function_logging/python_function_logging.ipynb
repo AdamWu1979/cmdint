{
 "cells": [
  {
   "cell_type": "markdown",
   "metadata": {},
   "source": [
    "## How to call python functions using `CmdInterface`"
   ]
  },
  {
   "cell_type": "code",
   "execution_count": 1,
   "metadata": {},
   "outputs": [],
   "source": [
    "from cmdint import CmdInterface\n",
    "from cmdint.Utils import ProgressBar\n",
    "import time"
   ]
  },
  {
   "cell_type": "markdown",
   "metadata": {},
   "source": [
    "Create a dummy function to be executed using `CmdInterface`."
   ]
  },
  {
   "cell_type": "code",
   "execution_count": 3,
   "metadata": {},
   "outputs": [],
   "source": [
    "def my_python_function(my_arg: str):\n",
    "    for i in range(10):\n",
    "        print(my_arg + ' ' + str(i))"
   ]
  },
  {
   "cell_type": "markdown",
   "metadata": {},
   "source": [
    "Another dummy with progress bar."
   ]
  },
  {
   "cell_type": "code",
   "execution_count": 4,
   "metadata": {},
   "outputs": [],
   "source": [
    "def my_python_function_with_progress():\n",
    "    bar = ProgressBar(10)\n",
    "    for i in range(10):\n",
    "        time.sleep(1)\n",
    "        bar.next()"
   ]
  },
  {
   "cell_type": "markdown",
   "metadata": {},
   "source": [
    "Set output logfile and tell `CmdInterface` to delete a potentially present old logfile."
   ]
  },
  {
   "cell_type": "code",
   "execution_count": 5,
   "metadata": {},
   "outputs": [],
   "source": [
    "CmdInterface.set_static_logfile('python_function_logging.json', delete_existing=True)"
   ]
  },
  {
   "cell_type": "markdown",
   "metadata": {},
   "source": [
    "Create instance of `CmdInterface` that calls the previously defined python function `my_python_function`."
   ]
  },
  {
   "cell_type": "code",
   "execution_count": 7,
   "metadata": {},
   "outputs": [
    {
     "name": "stdout",
     "output_type": "stream",
     "text": [
      "Warning, repo /home/neher/cmdint/cmdint is dirty!\n",
      "2019-02-05 09:13:48 >> my_python_function START\n",
      "2019-02-05 09:13:48 >> my_python_function END\n"
     ]
    },
    {
     "data": {
      "text/plain": [
       "1"
      ]
     },
     "execution_count": 7,
     "metadata": {},
     "output_type": "execute_result"
    }
   ],
   "source": [
    "test_my_python_function = CmdInterface(my_python_function)\n",
    "test_my_python_function.add_arg('my_arg', 'BLABLA')\n",
    "test_my_python_function.run()"
   ]
  },
  {
   "cell_type": "markdown",
   "metadata": {},
   "source": [
    "Another call with our progress bar function. The progress bar in the output logfile is updated continuously, as is all other output."
   ]
  },
  {
   "cell_type": "code",
   "execution_count": 10,
   "metadata": {},
   "outputs": [
    {
     "name": "stdout",
     "output_type": "stream",
     "text": [
      "Warning, repo /home/neher/cmdint/cmdint is dirty!\n",
      "2019-02-05 09:14:58 >> my_python_function_with_progress START\n",
      "2019-02-05 09:15:08 >> my_python_function_with_progress END\n",
      "Anonymizing python_function_logging.json\n"
     ]
    }
   ],
   "source": [
    "test_my_python_function_with_progress = CmdInterface(my_python_function_with_progress)\n",
    "test_my_python_function_with_progress.run()\n",
    "CmdInterface.anonymize_log(out_log_name='python_function_logging.json')"
   ]
  },
  {
   "cell_type": "code",
   "execution_count": null,
   "metadata": {},
   "outputs": [],
   "source": []
  }
 ],
 "metadata": {
  "kernelspec": {
   "display_name": "Python 3",
   "language": "python",
   "name": "python3"
  },
  "language_info": {
   "codemirror_mode": {
    "name": "ipython",
    "version": 3
   },
   "file_extension": ".py",
   "mimetype": "text/x-python",
   "name": "python",
   "nbconvert_exporter": "python",
   "pygments_lexer": "ipython3",
   "version": "3.6.7"
  }
 },
 "nbformat": 4,
 "nbformat_minor": 2
}
